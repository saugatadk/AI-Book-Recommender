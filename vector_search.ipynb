{
 "cells": [
  {
   "cell_type": "code",
   "id": "initial_id",
   "metadata": {
    "collapsed": true,
    "ExecuteTime": {
     "end_time": "2025-07-26T09:35:56.635346Z",
     "start_time": "2025-07-26T09:35:56.626563Z"
    }
   },
   "source": [
    "from langchain_community.document_loaders import TextLoader\n",
    "from langchain_community.embeddings import HuggingFaceEmbeddings\n",
    "from langchain_text_splitters import CharacterTextSplitter\n",
    "from langchain.schema import Document\n",
    "from langchain_openai import OpenAIEmbeddings\n",
    "from langchain_chroma import Chroma"
   ],
   "outputs": [],
   "execution_count": 34
  },
  {
   "metadata": {
    "ExecuteTime": {
     "end_time": "2025-07-26T07:39:23.829364Z",
     "start_time": "2025-07-26T07:39:23.819201Z"
    }
   },
   "cell_type": "code",
   "source": [
    "from dotenv import load_dotenv\n",
    "\n",
    "load_dotenv()"
   ],
   "id": "9de897acaf61ca38",
   "outputs": [
    {
     "data": {
      "text/plain": [
       "True"
      ]
     },
     "execution_count": 4,
     "metadata": {},
     "output_type": "execute_result"
    }
   ],
   "execution_count": 4
  },
  {
   "metadata": {
    "ExecuteTime": {
     "end_time": "2025-07-26T07:40:16.110208Z",
     "start_time": "2025-07-26T07:40:16.029872Z"
    }
   },
   "cell_type": "code",
   "source": [
    "import pandas as pd\n",
    "books = pd.read_csv(\"books_cleaned.csv\")"
   ],
   "id": "7b08ff9854abf362",
   "outputs": [],
   "execution_count": 5
  },
  {
   "metadata": {
    "ExecuteTime": {
     "end_time": "2025-07-26T07:40:22.840267Z",
     "start_time": "2025-07-26T07:40:22.816081Z"
    }
   },
   "cell_type": "code",
   "source": "books",
   "id": "79dc12289b228f4d",
   "outputs": [
    {
     "data": {
      "text/plain": [
       "             isbn13      isbn10  \\\n",
       "0     9780002005883  0002005883   \n",
       "1     9780002261982  0002261987   \n",
       "2     9780006178736  0006178731   \n",
       "3     9780006280897  0006280897   \n",
       "4     9780006280934  0006280935   \n",
       "...             ...         ...   \n",
       "5192  9788172235222  8172235224   \n",
       "5193  9788173031014  8173031010   \n",
       "5194  9788179921623  817992162X   \n",
       "5195  9788185300535  8185300534   \n",
       "5196  9789027712059  9027712050   \n",
       "\n",
       "                                                  title  \\\n",
       "0                                                Gilead   \n",
       "1                                          Spider's Web   \n",
       "2                                        Rage of angels   \n",
       "3                                        The Four Loves   \n",
       "4                                   The Problem of Pain   \n",
       "...                                                 ...   \n",
       "5192                                  Mistaken Identity   \n",
       "5193                                Journey to the East   \n",
       "5194  The Monk Who Sold His Ferrari: A Fable About F...   \n",
       "5195                                          I Am that   \n",
       "5196                           The Berlin Phenomenology   \n",
       "\n",
       "                                           authors  \\\n",
       "0                               Marilynne Robinson   \n",
       "1                  Charles Osborne;Agatha Christie   \n",
       "2                                   Sidney Sheldon   \n",
       "3                              Clive Staples Lewis   \n",
       "4                              Clive Staples Lewis   \n",
       "...                                            ...   \n",
       "5192                              Nayantara Sahgal   \n",
       "5193                                 Hermann Hesse   \n",
       "5194                                  Robin Sharma   \n",
       "5195  Sri Nisargadatta Maharaj;Sudhakar S. Dikshit   \n",
       "5196                 Georg Wilhelm Friedrich Hegel   \n",
       "\n",
       "                         categories  \\\n",
       "0                           Fiction   \n",
       "1     Detective and mystery stories   \n",
       "2                           Fiction   \n",
       "3                    Christian life   \n",
       "4                    Christian life   \n",
       "...                             ...   \n",
       "5192        Indic fiction (English)   \n",
       "5193              Adventure stories   \n",
       "5194               Health & Fitness   \n",
       "5195                     Philosophy   \n",
       "5196                        History   \n",
       "\n",
       "                                              thumbnail  \\\n",
       "0     http://books.google.com/books/content?id=KQZCP...   \n",
       "1     http://books.google.com/books/content?id=gA5GP...   \n",
       "2     http://books.google.com/books/content?id=FKo2T...   \n",
       "3     http://books.google.com/books/content?id=XhQ5X...   \n",
       "4     http://books.google.com/books/content?id=Kk-uV...   \n",
       "...                                                 ...   \n",
       "5192  http://books.google.com/books/content?id=q-tKP...   \n",
       "5193  http://books.google.com/books/content?id=rq6JP...   \n",
       "5194  http://books.google.com/books/content?id=c_7mf...   \n",
       "5195  http://books.google.com/books/content?id=Fv_JP...   \n",
       "5196  http://books.google.com/books/content?id=Vy7Sk...   \n",
       "\n",
       "                                            description  published_year  \\\n",
       "0     A NOVEL THAT READERS and critics have been eag...          2004.0   \n",
       "1     A new 'Christie for Christmas' -- a full-lengt...          2000.0   \n",
       "2     A memorable, mesmerizing heroine Jennifer -- b...          1993.0   \n",
       "3     Lewis' work on the nature of love divides love...          2002.0   \n",
       "4     \"In The Problem of Pain, C.S. Lewis, one of th...          2002.0   \n",
       "...                                                 ...             ...   \n",
       "5192  On A Train Journey Home To North India After L...          2003.0   \n",
       "5193  This book tells the tale of a man who goes on ...          2002.0   \n",
       "5194  Wisdom to Create a Life of Passion, Purpose, a...          2003.0   \n",
       "5195  This collection of the timeless teachings of o...          1999.0   \n",
       "5196  Since the three volume edition ofHegel's Philo...          1981.0   \n",
       "\n",
       "      average_rating  num_pages  ratings_count  \\\n",
       "0               3.85      247.0          361.0   \n",
       "1               3.83      241.0         5164.0   \n",
       "2               3.93      512.0        29532.0   \n",
       "3               4.15      170.0        33684.0   \n",
       "4               4.09      176.0        37569.0   \n",
       "...              ...        ...            ...   \n",
       "5192            2.93      324.0            0.0   \n",
       "5193            3.70      175.0           24.0   \n",
       "5194            3.82      198.0         1568.0   \n",
       "5195            4.51      531.0          104.0   \n",
       "5196            0.00      210.0            0.0   \n",
       "\n",
       "                                     title_and_subtitle  \\\n",
       "0                                                Gilead   \n",
       "1                                 Spider's Web: A Novel   \n",
       "2                                        Rage of angels   \n",
       "3                                        The Four Loves   \n",
       "4                                   The Problem of Pain   \n",
       "...                                                 ...   \n",
       "5192                                  Mistaken Identity   \n",
       "5193                                Journey to the East   \n",
       "5194  The Monk Who Sold His Ferrari: A Fable About F...   \n",
       "5195     I Am that: Talks with Sri Nisargadatta Maharaj   \n",
       "5196                           The Berlin Phenomenology   \n",
       "\n",
       "                                     tagged_description  \n",
       "0     9780002005883 A NOVEL THAT READERS and critics...  \n",
       "1     9780002261982 A new 'Christie for Christmas' -...  \n",
       "2     9780006178736 A memorable, mesmerizing heroine...  \n",
       "3     9780006280897 Lewis' work on the nature of lov...  \n",
       "4     9780006280934 \"In The Problem of Pain, C.S. Le...  \n",
       "...                                                 ...  \n",
       "5192  9788172235222 On A Train Journey Home To North...  \n",
       "5193  9788173031014 This book tells the tale of a ma...  \n",
       "5194  9788179921623 Wisdom to Create a Life of Passi...  \n",
       "5195  9788185300535 This collection of the timeless ...  \n",
       "5196  9789027712059 Since the three volume edition o...  \n",
       "\n",
       "[5197 rows x 13 columns]"
      ],
      "text/html": [
       "<div>\n",
       "<style scoped>\n",
       "    .dataframe tbody tr th:only-of-type {\n",
       "        vertical-align: middle;\n",
       "    }\n",
       "\n",
       "    .dataframe tbody tr th {\n",
       "        vertical-align: top;\n",
       "    }\n",
       "\n",
       "    .dataframe thead th {\n",
       "        text-align: right;\n",
       "    }\n",
       "</style>\n",
       "<table border=\"1\" class=\"dataframe\">\n",
       "  <thead>\n",
       "    <tr style=\"text-align: right;\">\n",
       "      <th></th>\n",
       "      <th>isbn13</th>\n",
       "      <th>isbn10</th>\n",
       "      <th>title</th>\n",
       "      <th>authors</th>\n",
       "      <th>categories</th>\n",
       "      <th>thumbnail</th>\n",
       "      <th>description</th>\n",
       "      <th>published_year</th>\n",
       "      <th>average_rating</th>\n",
       "      <th>num_pages</th>\n",
       "      <th>ratings_count</th>\n",
       "      <th>title_and_subtitle</th>\n",
       "      <th>tagged_description</th>\n",
       "    </tr>\n",
       "  </thead>\n",
       "  <tbody>\n",
       "    <tr>\n",
       "      <th>0</th>\n",
       "      <td>9780002005883</td>\n",
       "      <td>0002005883</td>\n",
       "      <td>Gilead</td>\n",
       "      <td>Marilynne Robinson</td>\n",
       "      <td>Fiction</td>\n",
       "      <td>http://books.google.com/books/content?id=KQZCP...</td>\n",
       "      <td>A NOVEL THAT READERS and critics have been eag...</td>\n",
       "      <td>2004.0</td>\n",
       "      <td>3.85</td>\n",
       "      <td>247.0</td>\n",
       "      <td>361.0</td>\n",
       "      <td>Gilead</td>\n",
       "      <td>9780002005883 A NOVEL THAT READERS and critics...</td>\n",
       "    </tr>\n",
       "    <tr>\n",
       "      <th>1</th>\n",
       "      <td>9780002261982</td>\n",
       "      <td>0002261987</td>\n",
       "      <td>Spider's Web</td>\n",
       "      <td>Charles Osborne;Agatha Christie</td>\n",
       "      <td>Detective and mystery stories</td>\n",
       "      <td>http://books.google.com/books/content?id=gA5GP...</td>\n",
       "      <td>A new 'Christie for Christmas' -- a full-lengt...</td>\n",
       "      <td>2000.0</td>\n",
       "      <td>3.83</td>\n",
       "      <td>241.0</td>\n",
       "      <td>5164.0</td>\n",
       "      <td>Spider's Web: A Novel</td>\n",
       "      <td>9780002261982 A new 'Christie for Christmas' -...</td>\n",
       "    </tr>\n",
       "    <tr>\n",
       "      <th>2</th>\n",
       "      <td>9780006178736</td>\n",
       "      <td>0006178731</td>\n",
       "      <td>Rage of angels</td>\n",
       "      <td>Sidney Sheldon</td>\n",
       "      <td>Fiction</td>\n",
       "      <td>http://books.google.com/books/content?id=FKo2T...</td>\n",
       "      <td>A memorable, mesmerizing heroine Jennifer -- b...</td>\n",
       "      <td>1993.0</td>\n",
       "      <td>3.93</td>\n",
       "      <td>512.0</td>\n",
       "      <td>29532.0</td>\n",
       "      <td>Rage of angels</td>\n",
       "      <td>9780006178736 A memorable, mesmerizing heroine...</td>\n",
       "    </tr>\n",
       "    <tr>\n",
       "      <th>3</th>\n",
       "      <td>9780006280897</td>\n",
       "      <td>0006280897</td>\n",
       "      <td>The Four Loves</td>\n",
       "      <td>Clive Staples Lewis</td>\n",
       "      <td>Christian life</td>\n",
       "      <td>http://books.google.com/books/content?id=XhQ5X...</td>\n",
       "      <td>Lewis' work on the nature of love divides love...</td>\n",
       "      <td>2002.0</td>\n",
       "      <td>4.15</td>\n",
       "      <td>170.0</td>\n",
       "      <td>33684.0</td>\n",
       "      <td>The Four Loves</td>\n",
       "      <td>9780006280897 Lewis' work on the nature of lov...</td>\n",
       "    </tr>\n",
       "    <tr>\n",
       "      <th>4</th>\n",
       "      <td>9780006280934</td>\n",
       "      <td>0006280935</td>\n",
       "      <td>The Problem of Pain</td>\n",
       "      <td>Clive Staples Lewis</td>\n",
       "      <td>Christian life</td>\n",
       "      <td>http://books.google.com/books/content?id=Kk-uV...</td>\n",
       "      <td>\"In The Problem of Pain, C.S. Lewis, one of th...</td>\n",
       "      <td>2002.0</td>\n",
       "      <td>4.09</td>\n",
       "      <td>176.0</td>\n",
       "      <td>37569.0</td>\n",
       "      <td>The Problem of Pain</td>\n",
       "      <td>9780006280934 \"In The Problem of Pain, C.S. Le...</td>\n",
       "    </tr>\n",
       "    <tr>\n",
       "      <th>...</th>\n",
       "      <td>...</td>\n",
       "      <td>...</td>\n",
       "      <td>...</td>\n",
       "      <td>...</td>\n",
       "      <td>...</td>\n",
       "      <td>...</td>\n",
       "      <td>...</td>\n",
       "      <td>...</td>\n",
       "      <td>...</td>\n",
       "      <td>...</td>\n",
       "      <td>...</td>\n",
       "      <td>...</td>\n",
       "      <td>...</td>\n",
       "    </tr>\n",
       "    <tr>\n",
       "      <th>5192</th>\n",
       "      <td>9788172235222</td>\n",
       "      <td>8172235224</td>\n",
       "      <td>Mistaken Identity</td>\n",
       "      <td>Nayantara Sahgal</td>\n",
       "      <td>Indic fiction (English)</td>\n",
       "      <td>http://books.google.com/books/content?id=q-tKP...</td>\n",
       "      <td>On A Train Journey Home To North India After L...</td>\n",
       "      <td>2003.0</td>\n",
       "      <td>2.93</td>\n",
       "      <td>324.0</td>\n",
       "      <td>0.0</td>\n",
       "      <td>Mistaken Identity</td>\n",
       "      <td>9788172235222 On A Train Journey Home To North...</td>\n",
       "    </tr>\n",
       "    <tr>\n",
       "      <th>5193</th>\n",
       "      <td>9788173031014</td>\n",
       "      <td>8173031010</td>\n",
       "      <td>Journey to the East</td>\n",
       "      <td>Hermann Hesse</td>\n",
       "      <td>Adventure stories</td>\n",
       "      <td>http://books.google.com/books/content?id=rq6JP...</td>\n",
       "      <td>This book tells the tale of a man who goes on ...</td>\n",
       "      <td>2002.0</td>\n",
       "      <td>3.70</td>\n",
       "      <td>175.0</td>\n",
       "      <td>24.0</td>\n",
       "      <td>Journey to the East</td>\n",
       "      <td>9788173031014 This book tells the tale of a ma...</td>\n",
       "    </tr>\n",
       "    <tr>\n",
       "      <th>5194</th>\n",
       "      <td>9788179921623</td>\n",
       "      <td>817992162X</td>\n",
       "      <td>The Monk Who Sold His Ferrari: A Fable About F...</td>\n",
       "      <td>Robin Sharma</td>\n",
       "      <td>Health &amp; Fitness</td>\n",
       "      <td>http://books.google.com/books/content?id=c_7mf...</td>\n",
       "      <td>Wisdom to Create a Life of Passion, Purpose, a...</td>\n",
       "      <td>2003.0</td>\n",
       "      <td>3.82</td>\n",
       "      <td>198.0</td>\n",
       "      <td>1568.0</td>\n",
       "      <td>The Monk Who Sold His Ferrari: A Fable About F...</td>\n",
       "      <td>9788179921623 Wisdom to Create a Life of Passi...</td>\n",
       "    </tr>\n",
       "    <tr>\n",
       "      <th>5195</th>\n",
       "      <td>9788185300535</td>\n",
       "      <td>8185300534</td>\n",
       "      <td>I Am that</td>\n",
       "      <td>Sri Nisargadatta Maharaj;Sudhakar S. Dikshit</td>\n",
       "      <td>Philosophy</td>\n",
       "      <td>http://books.google.com/books/content?id=Fv_JP...</td>\n",
       "      <td>This collection of the timeless teachings of o...</td>\n",
       "      <td>1999.0</td>\n",
       "      <td>4.51</td>\n",
       "      <td>531.0</td>\n",
       "      <td>104.0</td>\n",
       "      <td>I Am that: Talks with Sri Nisargadatta Maharaj</td>\n",
       "      <td>9788185300535 This collection of the timeless ...</td>\n",
       "    </tr>\n",
       "    <tr>\n",
       "      <th>5196</th>\n",
       "      <td>9789027712059</td>\n",
       "      <td>9027712050</td>\n",
       "      <td>The Berlin Phenomenology</td>\n",
       "      <td>Georg Wilhelm Friedrich Hegel</td>\n",
       "      <td>History</td>\n",
       "      <td>http://books.google.com/books/content?id=Vy7Sk...</td>\n",
       "      <td>Since the three volume edition ofHegel's Philo...</td>\n",
       "      <td>1981.0</td>\n",
       "      <td>0.00</td>\n",
       "      <td>210.0</td>\n",
       "      <td>0.0</td>\n",
       "      <td>The Berlin Phenomenology</td>\n",
       "      <td>9789027712059 Since the three volume edition o...</td>\n",
       "    </tr>\n",
       "  </tbody>\n",
       "</table>\n",
       "<p>5197 rows × 13 columns</p>\n",
       "</div>"
      ]
     },
     "execution_count": 6,
     "metadata": {},
     "output_type": "execute_result"
    }
   ],
   "execution_count": 6
  },
  {
   "metadata": {
    "ExecuteTime": {
     "end_time": "2025-07-26T07:40:35.393130Z",
     "start_time": "2025-07-26T07:40:35.385879Z"
    }
   },
   "cell_type": "code",
   "source": "books[\"tagged_description\"]",
   "id": "f85dfa14cbeb8d45",
   "outputs": [
    {
     "data": {
      "text/plain": [
       "0       9780002005883 A NOVEL THAT READERS and critics...\n",
       "1       9780002261982 A new 'Christie for Christmas' -...\n",
       "2       9780006178736 A memorable, mesmerizing heroine...\n",
       "3       9780006280897 Lewis' work on the nature of lov...\n",
       "4       9780006280934 \"In The Problem of Pain, C.S. Le...\n",
       "                              ...                        \n",
       "5192    9788172235222 On A Train Journey Home To North...\n",
       "5193    9788173031014 This book tells the tale of a ma...\n",
       "5194    9788179921623 Wisdom to Create a Life of Passi...\n",
       "5195    9788185300535 This collection of the timeless ...\n",
       "5196    9789027712059 Since the three volume edition o...\n",
       "Name: tagged_description, Length: 5197, dtype: object"
      ]
     },
     "execution_count": 7,
     "metadata": {},
     "output_type": "execute_result"
    }
   ],
   "execution_count": 7
  },
  {
   "metadata": {
    "ExecuteTime": {
     "end_time": "2025-07-26T07:45:01.100370Z",
     "start_time": "2025-07-26T07:45:01.056494Z"
    }
   },
   "cell_type": "code",
   "source": [
    "books[\"tagged_description\"].to_csv(\"tagged_descriptions.txt\",\n",
    "                                   sep=\"\\n\",\n",
    "                                   index=False,\n",
    "                                   header=False)"
   ],
   "id": "1525cf7dd94e4251",
   "outputs": [],
   "execution_count": 8
  },
  {
   "metadata": {
    "ExecuteTime": {
     "end_time": "2025-07-26T08:06:24.164793Z",
     "start_time": "2025-07-26T08:06:24.142987Z"
    }
   },
   "cell_type": "code",
   "source": [
    "raw_documents = TextLoader(\"tagged_descriptions.txt\").load()\n",
    "# text_splitter = CharacterTextSplitter(chunk_size=0, chunk_overlap=0, separator=\"\\n\")\n",
    "# documents = text_splitter.split_documents(raw_documents)\n",
    "\n",
    "# Create a document per line\n",
    "documents = []\n",
    "for doc in raw_documents:\n",
    "    lines = doc.page_content.split(\"\\n\")\n",
    "    for line in lines:\n",
    "        line = line.strip()\n",
    "        if line:\n",
    "            documents.append(Document(page_content=line))"
   ],
   "id": "a1bdeff12289b42d",
   "outputs": [],
   "execution_count": 25
  },
  {
   "metadata": {
    "ExecuteTime": {
     "end_time": "2025-07-26T08:06:26.472127Z",
     "start_time": "2025-07-26T08:06:26.465621Z"
    }
   },
   "cell_type": "code",
   "source": "documents[0]",
   "id": "28d3ff834e97720b",
   "outputs": [
    {
     "data": {
      "text/plain": [
       "Document(metadata={}, page_content='9780002005883 A NOVEL THAT READERS and critics have been eagerly anticipating for over a decade, Gilead is an astonishingly imagined story of remarkable lives. John Ames is a preacher, the son of a preacher and the grandson (both maternal and paternal) of preachers. It’s 1956 in Gilead, Iowa, towards the end of the Reverend Ames’s life, and he is absorbed in recording his family’s story, a legacy for the young son he will never see grow up. Haunted by his grandfather’s presence, John tells of the rift between his grandfather and his father: the elder, an angry visionary who fought for the abolitionist cause, and his son, an ardent pacifist. He is troubled, too, by his prodigal namesake, Jack (John Ames) Boughton, his best friend’s lost son who returns to Gilead searching for forgiveness and redemption. Told in John Ames’s joyous, rambling voice that finds beauty, humour and truth in the smallest of life’s details, Gilead is a song of celebration and acceptance of the best and the worst the world has to offer. At its heart is a tale of the sacred bonds between fathers and sons, pitch-perfect in style and story, set to dazzle critics and readers alike.')"
      ]
     },
     "execution_count": 26,
     "metadata": {},
     "output_type": "execute_result"
    }
   ],
   "execution_count": 26
  },
  {
   "metadata": {
    "ExecuteTime": {
     "end_time": "2025-07-26T09:45:37.486250Z",
     "start_time": "2025-07-26T09:44:28.467397Z"
    }
   },
   "cell_type": "code",
   "source": [
    "huggingface_embeddings = HuggingFaceEmbeddings(model_name=\"sentence-transformers/all-MiniLM-L6-v2\")\n",
    "\n",
    "db_books = Chroma.from_documents(\n",
    "    documents,\n",
    "    embedding=huggingface_embeddings\n",
    ")"
   ],
   "id": "284d7df96703d758",
   "outputs": [
    {
     "data": {
      "text/plain": [
       "modules.json:   0%|          | 0.00/349 [00:00<?, ?B/s]"
      ],
      "application/vnd.jupyter.widget-view+json": {
       "version_major": 2,
       "version_minor": 0,
       "model_id": "45989af1b9e54ca5aa29a7e37e5f1b8c"
      }
     },
     "metadata": {},
     "output_type": "display_data"
    },
    {
     "data": {
      "text/plain": [
       "config_sentence_transformers.json:   0%|          | 0.00/116 [00:00<?, ?B/s]"
      ],
      "application/vnd.jupyter.widget-view+json": {
       "version_major": 2,
       "version_minor": 0,
       "model_id": "84327d8f08b142888cac42b359e4c3bb"
      }
     },
     "metadata": {},
     "output_type": "display_data"
    },
    {
     "data": {
      "text/plain": [
       "README.md: 0.00B [00:00, ?B/s]"
      ],
      "application/vnd.jupyter.widget-view+json": {
       "version_major": 2,
       "version_minor": 0,
       "model_id": "2a0a6b544bc549118467bd3d85ec01a7"
      }
     },
     "metadata": {},
     "output_type": "display_data"
    },
    {
     "data": {
      "text/plain": [
       "sentence_bert_config.json:   0%|          | 0.00/53.0 [00:00<?, ?B/s]"
      ],
      "application/vnd.jupyter.widget-view+json": {
       "version_major": 2,
       "version_minor": 0,
       "model_id": "687cd8def4d64d6784bd647aebe3ea3e"
      }
     },
     "metadata": {},
     "output_type": "display_data"
    },
    {
     "data": {
      "text/plain": [
       "config.json:   0%|          | 0.00/612 [00:00<?, ?B/s]"
      ],
      "application/vnd.jupyter.widget-view+json": {
       "version_major": 2,
       "version_minor": 0,
       "model_id": "5d7c83a193a643ef95276c3a33a1f2f2"
      }
     },
     "metadata": {},
     "output_type": "display_data"
    },
    {
     "data": {
      "text/plain": [
       "model.safetensors:   0%|          | 0.00/90.9M [00:00<?, ?B/s]"
      ],
      "application/vnd.jupyter.widget-view+json": {
       "version_major": 2,
       "version_minor": 0,
       "model_id": "d050f2b1db25419fb5ed4ae0781d31f3"
      }
     },
     "metadata": {},
     "output_type": "display_data"
    },
    {
     "data": {
      "text/plain": [
       "tokenizer_config.json:   0%|          | 0.00/350 [00:00<?, ?B/s]"
      ],
      "application/vnd.jupyter.widget-view+json": {
       "version_major": 2,
       "version_minor": 0,
       "model_id": "477a1b7b979a4a5287ee63ecc6ac81c9"
      }
     },
     "metadata": {},
     "output_type": "display_data"
    },
    {
     "data": {
      "text/plain": [
       "vocab.txt: 0.00B [00:00, ?B/s]"
      ],
      "application/vnd.jupyter.widget-view+json": {
       "version_major": 2,
       "version_minor": 0,
       "model_id": "a8c017d40f6b4bbd98221f241a1f8091"
      }
     },
     "metadata": {},
     "output_type": "display_data"
    },
    {
     "data": {
      "text/plain": [
       "tokenizer.json: 0.00B [00:00, ?B/s]"
      ],
      "application/vnd.jupyter.widget-view+json": {
       "version_major": 2,
       "version_minor": 0,
       "model_id": "6a0f955320a246e5ab391b50822104d2"
      }
     },
     "metadata": {},
     "output_type": "display_data"
    },
    {
     "data": {
      "text/plain": [
       "special_tokens_map.json:   0%|          | 0.00/112 [00:00<?, ?B/s]"
      ],
      "application/vnd.jupyter.widget-view+json": {
       "version_major": 2,
       "version_minor": 0,
       "model_id": "652d792a595c445aadcd5781ad06f7e2"
      }
     },
     "metadata": {},
     "output_type": "display_data"
    },
    {
     "data": {
      "text/plain": [
       "config.json:   0%|          | 0.00/190 [00:00<?, ?B/s]"
      ],
      "application/vnd.jupyter.widget-view+json": {
       "version_major": 2,
       "version_minor": 0,
       "model_id": "740934c0185b463ba40ac8cd4310432c"
      }
     },
     "metadata": {},
     "output_type": "display_data"
    }
   ],
   "execution_count": 38
  },
  {
   "metadata": {
    "ExecuteTime": {
     "end_time": "2025-07-26T09:46:55.057086Z",
     "start_time": "2025-07-26T09:46:55.024599Z"
    }
   },
   "cell_type": "code",
   "source": [
    "query = \"A book to teach children about nature\"\n",
    "docs = db_books.similarity_search(query, k = 10)\n",
    "docs"
   ],
   "id": "c5ab29a5d716842e",
   "outputs": [
    {
     "data": {
      "text/plain": [
       "[Document(id='a8a9d8af-48d1-4bf6-80dd-4d12fc7a9b83', metadata={}, page_content='9780786808069 Children will discover the exciting world of their own backyard in this introduction to familiar animals from cats and dogs to bugs and frogs. The combination of photographs, illustrations, and fun facts make this an accessible and delightful learning experience.'),\n",
       " Document(id='23ebba3e-3f8b-47eb-b841-99fb4d08d9a7', metadata={}, page_content=\"9780786808380 Introduce your babies to birds, cats, dogs, and babies through fine art, illustration, and photographs. These books are a rare opportunity to expose little ones to a range of images on a single subject, from simple child's drawings and abstract art to playful photos. A brief text accompanies each image, introducing the baby to some basic -- and sometimes playful -- information about the subjects.\"),\n",
       " Document(id='cd944109-f7f1-4019-91d1-09ed17092a05', metadata={}, page_content=\"9780786808397 Introduce your baby to birds, cats, dogs, and babies through fine art, illustration, and photographs. These books are a rare opportunity to exopse little ones to a range of images on a single subject, from simple child's drawings and abstract art to playful photos. A brief text accompanies each image, introducing baby to some basic -- and sometimes playful -- information about the subjects.\"),\n",
       " Document(id='fa2490d1-4f68-433a-9b80-fc0e881d8d7d', metadata={}, page_content=\"9780060959036 Barbara Kingsolver's fifth novel is a hymn to wildness that celebrates the prodigal spirit of human nature, and of nature itself. It weaves together three stories of human love within a larger tapestry of lives amid the mountains and farms of southern Appalachia. Over the course of one humid summer, this novel's intriguing protagonists face disparate predicaments but find connections to one another and to the flora and fauna with which they necessarily share a place.\"),\n",
       " Document(id='1cbd0789-1853-4fb3-89bd-9ed76151f37a', metadata={}, page_content=\"9780786808373 Introducing your baby to birds, cats, dogs, and babies through fine art, illsutration and photographs. These books are a rare opportunity to expose little ones to a range of images on a single subject, from simple child's drawings and abstract art to playful photos. A brief text accompanies each image, introducing baby to some basic -- and sometimes playful -- information on the subjects.\"),\n",
       " Document(id='2469abd6-3dce-4295-9730-ea0e3b817625', metadata={}, page_content=\"9780374522599 The Control of Nature is John McPhee's bestselling account of places where people are locked in combat with nature. Taking us deep into these contested territories, McPhee details the strageties and tactics through which people attempt to control nature. Most striking is his depiction of the main contestants: nature in complex and awesome guises, and those attempting to wrest control from her - stubborn, sometimes foolhardy, more often ingenious, and always arresting characters.\"),\n",
       " Document(id='680e532c-dde9-465f-b096-616c9769a8ee', metadata={}, page_content='9780786819119 Charming illustrations and playful rhythmic verse make real-life learning fun by taking babies and toddlers on an adventurous discovery of water and its many sources. Squeezable and floatable, Water, Water, Everywhere can be enjoyed in and out of the tub.'),\n",
       " Document(id='0355987d-3066-4d89-92ec-9e917e6466f3', metadata={}, page_content=\"9780064402453 ‘Racso, a brash and boastful little rodent, is making his way to Thorn Valley, determined to learn how to read and write and become a hero. His bragging and lies get him off to a bad start, but a crisis gives him the opportunity to prove his mettle. A worthy successor [to Mrs. Frisby and the Rats of NIMH, a Newbery Medal winner by the author's father].' 'BL. 1986 Children's Editors' Choices (BL) Children's Choices for 1987 (IRA/CBC) Notable 1986 Childrens' Trade Books in Social Studies (NCSS/CBC) 1986 Children's Books (NY Public Library) Best Science Fiction/Fantasy 1986 (VOYA)\"),\n",
       " Document(id='5e31eaca-ebcf-412a-a0cd-fa50519fefdb', metadata={}, page_content='\"9781593851170 \"\"Comprehensive and up to date, this tightly edited volume belongs on the desks of researchers and students in developmental psychology, comparative psychology, animal behavior, and evolutionary psychology, and will also be of interest to anthropologists. It is a richly informative text for advanced undergraduate- and graduate-level courses.\"\"--BOOK JACKET.\"'),\n",
       " Document(id='fa013a32-9d72-4121-b628-30c5dce0e0db', metadata={}, page_content=\"9780064403870 When Margaret and her younger brother, Artie, get lost in the woods on a family camping trip, they are rescued by rats -- the superintelligent rats of NIMH. Taken into the rat's community, the children are safe for the time being. But winter is coming. Margaret and Artie have to get back home. And when they do, they must protect the rats who have helped them. Everything depends on their silence... but it's hard to evade questions forever. Children's Choices for 1991 (IRA/CBC)VOYA's Best Science Fiction, Fantasy, and Horror 1990Parenting Honorable Mention, Reading Magic Award\")]"
      ]
     },
     "execution_count": 39,
     "metadata": {},
     "output_type": "execute_result"
    }
   ],
   "execution_count": 39
  },
  {
   "metadata": {
    "ExecuteTime": {
     "end_time": "2025-07-26T09:53:13.808476Z",
     "start_time": "2025-07-26T09:53:13.797379Z"
    }
   },
   "cell_type": "code",
   "source": "books[books[\"isbn13\"] == int(docs[0].page_content.split()[0].strip())]",
   "id": "f17d4ac3d3e9b039",
   "outputs": [
    {
     "data": {
      "text/plain": [
       "             isbn13      isbn10                                title  \\\n",
       "3747  9780786808069  0786808063  Baby Einstein: Neighborhood Animals   \n",
       "\n",
       "                                authors        categories  \\\n",
       "3747  Marilyn Singer;Julie Aigner-Clark  Juvenile Fiction   \n",
       "\n",
       "                                              thumbnail  \\\n",
       "3747  http://books.google.com/books/content?id=X9a4P...   \n",
       "\n",
       "                                            description  published_year  \\\n",
       "3747  Children will discover the exciting world of t...          2001.0   \n",
       "\n",
       "      average_rating  num_pages  ratings_count  \\\n",
       "3747            3.89       16.0          180.0   \n",
       "\n",
       "                       title_and_subtitle  \\\n",
       "3747  Baby Einstein: Neighborhood Animals   \n",
       "\n",
       "                                     tagged_description  \n",
       "3747  9780786808069 Children will discover the excit...  "
      ],
      "text/html": [
       "<div>\n",
       "<style scoped>\n",
       "    .dataframe tbody tr th:only-of-type {\n",
       "        vertical-align: middle;\n",
       "    }\n",
       "\n",
       "    .dataframe tbody tr th {\n",
       "        vertical-align: top;\n",
       "    }\n",
       "\n",
       "    .dataframe thead th {\n",
       "        text-align: right;\n",
       "    }\n",
       "</style>\n",
       "<table border=\"1\" class=\"dataframe\">\n",
       "  <thead>\n",
       "    <tr style=\"text-align: right;\">\n",
       "      <th></th>\n",
       "      <th>isbn13</th>\n",
       "      <th>isbn10</th>\n",
       "      <th>title</th>\n",
       "      <th>authors</th>\n",
       "      <th>categories</th>\n",
       "      <th>thumbnail</th>\n",
       "      <th>description</th>\n",
       "      <th>published_year</th>\n",
       "      <th>average_rating</th>\n",
       "      <th>num_pages</th>\n",
       "      <th>ratings_count</th>\n",
       "      <th>title_and_subtitle</th>\n",
       "      <th>tagged_description</th>\n",
       "    </tr>\n",
       "  </thead>\n",
       "  <tbody>\n",
       "    <tr>\n",
       "      <th>3747</th>\n",
       "      <td>9780786808069</td>\n",
       "      <td>0786808063</td>\n",
       "      <td>Baby Einstein: Neighborhood Animals</td>\n",
       "      <td>Marilyn Singer;Julie Aigner-Clark</td>\n",
       "      <td>Juvenile Fiction</td>\n",
       "      <td>http://books.google.com/books/content?id=X9a4P...</td>\n",
       "      <td>Children will discover the exciting world of t...</td>\n",
       "      <td>2001.0</td>\n",
       "      <td>3.89</td>\n",
       "      <td>16.0</td>\n",
       "      <td>180.0</td>\n",
       "      <td>Baby Einstein: Neighborhood Animals</td>\n",
       "      <td>9780786808069 Children will discover the excit...</td>\n",
       "    </tr>\n",
       "  </tbody>\n",
       "</table>\n",
       "</div>"
      ]
     },
     "execution_count": 41,
     "metadata": {},
     "output_type": "execute_result"
    }
   ],
   "execution_count": 41
  },
  {
   "metadata": {
    "ExecuteTime": {
     "end_time": "2025-07-26T10:06:35.036159Z",
     "start_time": "2025-07-26T10:06:35.032894Z"
    }
   },
   "cell_type": "code",
   "source": [
    "# def retrieve_semantic_recommendations(\n",
    "#         query: str,\n",
    "#         top_k: int = 10,\n",
    "# ) -> pd.DataFrame:\n",
    "#     recs = db_books.similarity_search_with_score(query, k = 50)\n",
    "#\n",
    "#     books_list = []\n",
    "#     for i in range(0, len(recs)):\n",
    "#         books_list += [int(recs[i].page_content.strip('\"').split()[0])]\n",
    "#\n",
    "#     return books[books[\"isbn13\"].isin(books_list)].head(top_k)\n"
   ],
   "id": "91771e8eb07d68eb",
   "outputs": [],
   "execution_count": 54
  },
  {
   "metadata": {
    "ExecuteTime": {
     "end_time": "2025-07-26T10:24:29.406726Z",
     "start_time": "2025-07-26T10:24:29.402314Z"
    }
   },
   "cell_type": "code",
   "source": [
    "def retrieve_semantic_recommendations(query: str, top_k: int = 10) -> pd.DataFrame:\n",
    "    # Step 1: Run semantic similarity search (with score)\n",
    "    results = db_books.similarity_search_with_score(query, k=50)\n",
    "\n",
    "    # Step 2: Parse results and extract ISBN + score\n",
    "    recommendations = []\n",
    "    seen_isbns = set()\n",
    "\n",
    "    for doc, score in results:\n",
    "        # Assume the ISBN is the first token (or improve based on your format)\n",
    "        isbn_str = doc.page_content.strip('\"').split()[0]\n",
    "        try:\n",
    "            isbn = int(isbn_str)\n",
    "        except ValueError:\n",
    "            continue  # skip bad lines\n",
    "\n",
    "        if isbn not in seen_isbns:\n",
    "            recommendations.append((isbn, score))\n",
    "            seen_isbns.add(isbn)\n",
    "\n",
    "    # Step 3: Build DataFrame from matching ISBNs and scores\n",
    "    rec_df = pd.DataFrame(recommendations, columns=[\"isbn13\", \"similarity_score\"])\n",
    "\n",
    "    # Step 4: Merge with book metadata\n",
    "    final_df = rec_df.merge(books, on=\"isbn13\", how=\"inner\")\n",
    "\n",
    "    # Step 5: Sort by similarity score\n",
    "    return final_df.sort_values(by=\"similarity_score\", ascending=True).head(top_k)\n"
   ],
   "id": "3e9b79572e8a3d46",
   "outputs": [],
   "execution_count": 73
  },
  {
   "metadata": {
    "ExecuteTime": {
     "end_time": "2025-07-26T10:36:40.685199Z",
     "start_time": "2025-07-26T10:36:40.653026Z"
    }
   },
   "cell_type": "code",
   "source": "retrieve_semantic_recommendations(\"a book about trees\")",
   "id": "3ae1227263bc4418",
   "outputs": [
    {
     "data": {
      "text/plain": [
       "          isbn13  similarity_score      isbn10  \\\n",
       "0  9780789458209          0.891580  0789458209   \n",
       "1  9780007105045          0.917141  0007105045   \n",
       "2  9780446518628          0.983174  044651862X   \n",
       "3  9780312273224          1.030544  0312273223   \n",
       "4  9781400064892          1.039204  1400064899   \n",
       "5  9780061120077          1.040077  0061120073   \n",
       "6  9780007149124          1.137904  0007149123   \n",
       "7  9781590170311          1.149121  1590170318   \n",
       "8  9780930588793          1.151724  0930588797   \n",
       "9  9780060959036          1.168483  0060959037   \n",
       "\n",
       "                                   title                          authors  \\\n",
       "0                                   Tree                     David Burnie   \n",
       "1                          Tree and Leaf        John Ronald Reuel Tolkien   \n",
       "2                 The Celestine Prophecy                   James Redfield   \n",
       "3  Absent in the Spring and Other Novels  Mary Westmacott;Agatha Christie   \n",
       "4                         The Wild Trees                  Richard Preston   \n",
       "5               A Tree Grows in Brooklyn                      Betty Smith   \n",
       "6          Tales from the Perilous Realm        John Ronald Reuel Tolkien   \n",
       "7                            Witch Grass   Raymond Queneau;Barbara Wright   \n",
       "8                Life Amongst the Modocs                   Joaquin Miller   \n",
       "9                        Prodigal Summer               Barbara Kingsolver   \n",
       "\n",
       "                  categories  \\\n",
       "0        Juvenile Nonfiction   \n",
       "1       Literary Collections   \n",
       "2                    Fiction   \n",
       "3                    Fiction   \n",
       "4                     Nature   \n",
       "5                    Fiction   \n",
       "6       Fairy tales, English   \n",
       "7                    Fiction   \n",
       "8  Biography & Autobiography   \n",
       "9                    Fiction   \n",
       "\n",
       "                                           thumbnail  \\\n",
       "0  http://books.google.com/books/content?id=Qwsqj...   \n",
       "1  http://books.google.com/books/content?id=aPb_A...   \n",
       "2  http://books.google.com/books/content?id=UXolx...   \n",
       "3  http://books.google.com/books/content?id=rbkRi...   \n",
       "4  http://books.google.com/books/content?id=IWlU7...   \n",
       "5  http://books.google.com/books/content?id=Y-FZ9...   \n",
       "6  http://books.google.com/books/content?id=Wla7N...   \n",
       "7  http://books.google.com/books/content?id=sz6A0...   \n",
       "8  http://books.google.com/books/content?id=6_JEy...   \n",
       "9  http://books.google.com/books/content?id=06IwG...   \n",
       "\n",
       "                                         description  published_year  \\\n",
       "0  Photographs and text explore the anatomy and l...          2000.0   \n",
       "1  \"The two works 'On fairy-stories' and 'Leaf by...          2001.0   \n",
       "2  You have never read a book like this before --...          1994.0   \n",
       "3  Originally written by Agatha Christie under th...          2001.0   \n",
       "4  The best-selling author of The Hot Zone takes ...          2007.0   \n",
       "5  The beloved American classic about a young gir...          2006.0   \n",
       "6  Never before published in a single volume, Tol...          2002.0   \n",
       "7  Seated in a Paris café, a man glimpses another...          2003.0   \n",
       "8  Miller's masterful book, based on his years du...          1996.0   \n",
       "9  Barbara Kingsolver's fifth novel is a hymn to ...          2001.0   \n",
       "\n",
       "   average_rating  num_pages  ratings_count  \\\n",
       "0            4.07       64.0            5.0   \n",
       "1            4.09      176.0         2245.0   \n",
       "2            3.63      247.0         1280.0   \n",
       "3            4.19      656.0           88.0   \n",
       "4            4.08      294.0         5255.0   \n",
       "5            4.26      496.0       326733.0   \n",
       "6            4.08      178.0         2964.0   \n",
       "7            3.94      328.0          320.0   \n",
       "8            4.32      456.0           19.0   \n",
       "9            4.00      444.0        85440.0   \n",
       "\n",
       "                                  title_and_subtitle  \\\n",
       "0                                               Tree   \n",
       "1  Tree and Leaf: The Homecoming of Beorhtnoth : ...   \n",
       "2               The Celestine Prophecy: An Adventure   \n",
       "3  Absent in the Spring and Other Novels: Absent ...   \n",
       "4      The Wild Trees: A Story of Passion and Daring   \n",
       "5                           A Tree Grows in Brooklyn   \n",
       "6                      Tales from the Perilous Realm   \n",
       "7                                        Witch Grass   \n",
       "8         Life Amongst the Modocs: Unwritten History   \n",
       "9                           Prodigal Summer: A Novel   \n",
       "\n",
       "                                  tagged_description  \n",
       "0  9780789458209 Photographs and text explore the...  \n",
       "1  9780007105045 \"The two works 'On fairy-stories...  \n",
       "2  9780446518628 You have never read a book like ...  \n",
       "3  9780312273224 Originally written by Agatha Chr...  \n",
       "4  9781400064892 The best-selling author of The H...  \n",
       "5  9780061120077 The beloved American classic abo...  \n",
       "6  9780007149124 Never before published in a sing...  \n",
       "7  9781590170311 Seated in a Paris café, a man gl...  \n",
       "8  9780930588793 Miller's masterful book, based o...  \n",
       "9  9780060959036 Barbara Kingsolver's fifth novel...  "
      ],
      "text/html": [
       "<div>\n",
       "<style scoped>\n",
       "    .dataframe tbody tr th:only-of-type {\n",
       "        vertical-align: middle;\n",
       "    }\n",
       "\n",
       "    .dataframe tbody tr th {\n",
       "        vertical-align: top;\n",
       "    }\n",
       "\n",
       "    .dataframe thead th {\n",
       "        text-align: right;\n",
       "    }\n",
       "</style>\n",
       "<table border=\"1\" class=\"dataframe\">\n",
       "  <thead>\n",
       "    <tr style=\"text-align: right;\">\n",
       "      <th></th>\n",
       "      <th>isbn13</th>\n",
       "      <th>similarity_score</th>\n",
       "      <th>isbn10</th>\n",
       "      <th>title</th>\n",
       "      <th>authors</th>\n",
       "      <th>categories</th>\n",
       "      <th>thumbnail</th>\n",
       "      <th>description</th>\n",
       "      <th>published_year</th>\n",
       "      <th>average_rating</th>\n",
       "      <th>num_pages</th>\n",
       "      <th>ratings_count</th>\n",
       "      <th>title_and_subtitle</th>\n",
       "      <th>tagged_description</th>\n",
       "    </tr>\n",
       "  </thead>\n",
       "  <tbody>\n",
       "    <tr>\n",
       "      <th>0</th>\n",
       "      <td>9780789458209</td>\n",
       "      <td>0.891580</td>\n",
       "      <td>0789458209</td>\n",
       "      <td>Tree</td>\n",
       "      <td>David Burnie</td>\n",
       "      <td>Juvenile Nonfiction</td>\n",
       "      <td>http://books.google.com/books/content?id=Qwsqj...</td>\n",
       "      <td>Photographs and text explore the anatomy and l...</td>\n",
       "      <td>2000.0</td>\n",
       "      <td>4.07</td>\n",
       "      <td>64.0</td>\n",
       "      <td>5.0</td>\n",
       "      <td>Tree</td>\n",
       "      <td>9780789458209 Photographs and text explore the...</td>\n",
       "    </tr>\n",
       "    <tr>\n",
       "      <th>1</th>\n",
       "      <td>9780007105045</td>\n",
       "      <td>0.917141</td>\n",
       "      <td>0007105045</td>\n",
       "      <td>Tree and Leaf</td>\n",
       "      <td>John Ronald Reuel Tolkien</td>\n",
       "      <td>Literary Collections</td>\n",
       "      <td>http://books.google.com/books/content?id=aPb_A...</td>\n",
       "      <td>\"The two works 'On fairy-stories' and 'Leaf by...</td>\n",
       "      <td>2001.0</td>\n",
       "      <td>4.09</td>\n",
       "      <td>176.0</td>\n",
       "      <td>2245.0</td>\n",
       "      <td>Tree and Leaf: The Homecoming of Beorhtnoth : ...</td>\n",
       "      <td>9780007105045 \"The two works 'On fairy-stories...</td>\n",
       "    </tr>\n",
       "    <tr>\n",
       "      <th>2</th>\n",
       "      <td>9780446518628</td>\n",
       "      <td>0.983174</td>\n",
       "      <td>044651862X</td>\n",
       "      <td>The Celestine Prophecy</td>\n",
       "      <td>James Redfield</td>\n",
       "      <td>Fiction</td>\n",
       "      <td>http://books.google.com/books/content?id=UXolx...</td>\n",
       "      <td>You have never read a book like this before --...</td>\n",
       "      <td>1994.0</td>\n",
       "      <td>3.63</td>\n",
       "      <td>247.0</td>\n",
       "      <td>1280.0</td>\n",
       "      <td>The Celestine Prophecy: An Adventure</td>\n",
       "      <td>9780446518628 You have never read a book like ...</td>\n",
       "    </tr>\n",
       "    <tr>\n",
       "      <th>3</th>\n",
       "      <td>9780312273224</td>\n",
       "      <td>1.030544</td>\n",
       "      <td>0312273223</td>\n",
       "      <td>Absent in the Spring and Other Novels</td>\n",
       "      <td>Mary Westmacott;Agatha Christie</td>\n",
       "      <td>Fiction</td>\n",
       "      <td>http://books.google.com/books/content?id=rbkRi...</td>\n",
       "      <td>Originally written by Agatha Christie under th...</td>\n",
       "      <td>2001.0</td>\n",
       "      <td>4.19</td>\n",
       "      <td>656.0</td>\n",
       "      <td>88.0</td>\n",
       "      <td>Absent in the Spring and Other Novels: Absent ...</td>\n",
       "      <td>9780312273224 Originally written by Agatha Chr...</td>\n",
       "    </tr>\n",
       "    <tr>\n",
       "      <th>4</th>\n",
       "      <td>9781400064892</td>\n",
       "      <td>1.039204</td>\n",
       "      <td>1400064899</td>\n",
       "      <td>The Wild Trees</td>\n",
       "      <td>Richard Preston</td>\n",
       "      <td>Nature</td>\n",
       "      <td>http://books.google.com/books/content?id=IWlU7...</td>\n",
       "      <td>The best-selling author of The Hot Zone takes ...</td>\n",
       "      <td>2007.0</td>\n",
       "      <td>4.08</td>\n",
       "      <td>294.0</td>\n",
       "      <td>5255.0</td>\n",
       "      <td>The Wild Trees: A Story of Passion and Daring</td>\n",
       "      <td>9781400064892 The best-selling author of The H...</td>\n",
       "    </tr>\n",
       "    <tr>\n",
       "      <th>5</th>\n",
       "      <td>9780061120077</td>\n",
       "      <td>1.040077</td>\n",
       "      <td>0061120073</td>\n",
       "      <td>A Tree Grows in Brooklyn</td>\n",
       "      <td>Betty Smith</td>\n",
       "      <td>Fiction</td>\n",
       "      <td>http://books.google.com/books/content?id=Y-FZ9...</td>\n",
       "      <td>The beloved American classic about a young gir...</td>\n",
       "      <td>2006.0</td>\n",
       "      <td>4.26</td>\n",
       "      <td>496.0</td>\n",
       "      <td>326733.0</td>\n",
       "      <td>A Tree Grows in Brooklyn</td>\n",
       "      <td>9780061120077 The beloved American classic abo...</td>\n",
       "    </tr>\n",
       "    <tr>\n",
       "      <th>6</th>\n",
       "      <td>9780007149124</td>\n",
       "      <td>1.137904</td>\n",
       "      <td>0007149123</td>\n",
       "      <td>Tales from the Perilous Realm</td>\n",
       "      <td>John Ronald Reuel Tolkien</td>\n",
       "      <td>Fairy tales, English</td>\n",
       "      <td>http://books.google.com/books/content?id=Wla7N...</td>\n",
       "      <td>Never before published in a single volume, Tol...</td>\n",
       "      <td>2002.0</td>\n",
       "      <td>4.08</td>\n",
       "      <td>178.0</td>\n",
       "      <td>2964.0</td>\n",
       "      <td>Tales from the Perilous Realm</td>\n",
       "      <td>9780007149124 Never before published in a sing...</td>\n",
       "    </tr>\n",
       "    <tr>\n",
       "      <th>7</th>\n",
       "      <td>9781590170311</td>\n",
       "      <td>1.149121</td>\n",
       "      <td>1590170318</td>\n",
       "      <td>Witch Grass</td>\n",
       "      <td>Raymond Queneau;Barbara Wright</td>\n",
       "      <td>Fiction</td>\n",
       "      <td>http://books.google.com/books/content?id=sz6A0...</td>\n",
       "      <td>Seated in a Paris café, a man glimpses another...</td>\n",
       "      <td>2003.0</td>\n",
       "      <td>3.94</td>\n",
       "      <td>328.0</td>\n",
       "      <td>320.0</td>\n",
       "      <td>Witch Grass</td>\n",
       "      <td>9781590170311 Seated in a Paris café, a man gl...</td>\n",
       "    </tr>\n",
       "    <tr>\n",
       "      <th>8</th>\n",
       "      <td>9780930588793</td>\n",
       "      <td>1.151724</td>\n",
       "      <td>0930588797</td>\n",
       "      <td>Life Amongst the Modocs</td>\n",
       "      <td>Joaquin Miller</td>\n",
       "      <td>Biography &amp; Autobiography</td>\n",
       "      <td>http://books.google.com/books/content?id=6_JEy...</td>\n",
       "      <td>Miller's masterful book, based on his years du...</td>\n",
       "      <td>1996.0</td>\n",
       "      <td>4.32</td>\n",
       "      <td>456.0</td>\n",
       "      <td>19.0</td>\n",
       "      <td>Life Amongst the Modocs: Unwritten History</td>\n",
       "      <td>9780930588793 Miller's masterful book, based o...</td>\n",
       "    </tr>\n",
       "    <tr>\n",
       "      <th>9</th>\n",
       "      <td>9780060959036</td>\n",
       "      <td>1.168483</td>\n",
       "      <td>0060959037</td>\n",
       "      <td>Prodigal Summer</td>\n",
       "      <td>Barbara Kingsolver</td>\n",
       "      <td>Fiction</td>\n",
       "      <td>http://books.google.com/books/content?id=06IwG...</td>\n",
       "      <td>Barbara Kingsolver's fifth novel is a hymn to ...</td>\n",
       "      <td>2001.0</td>\n",
       "      <td>4.00</td>\n",
       "      <td>444.0</td>\n",
       "      <td>85440.0</td>\n",
       "      <td>Prodigal Summer: A Novel</td>\n",
       "      <td>9780060959036 Barbara Kingsolver's fifth novel...</td>\n",
       "    </tr>\n",
       "  </tbody>\n",
       "</table>\n",
       "</div>"
      ]
     },
     "execution_count": 79,
     "metadata": {},
     "output_type": "execute_result"
    }
   ],
   "execution_count": 79
  }
 ],
 "metadata": {
  "kernelspec": {
   "display_name": "Python 3",
   "language": "python",
   "name": "python3"
  },
  "language_info": {
   "codemirror_mode": {
    "name": "ipython",
    "version": 2
   },
   "file_extension": ".py",
   "mimetype": "text/x-python",
   "name": "python",
   "nbconvert_exporter": "python",
   "pygments_lexer": "ipython2",
   "version": "2.7.6"
  }
 },
 "nbformat": 4,
 "nbformat_minor": 5
}
